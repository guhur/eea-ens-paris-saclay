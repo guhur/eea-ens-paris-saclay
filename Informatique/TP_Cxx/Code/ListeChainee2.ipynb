{
 "cells": [
  {
   "cell_type": "markdown",
   "metadata": {},
   "source": [
    "# TP C++ : programmation d'un itérateur\n",
    "On propose dans cette deuxième partie de programmer un itérateur sur la liste chaînée.\n",
    "Pour cela, on créera une nouvelle classe Iterateur, qui va gérer un curseur sur un nœud (dont le pointeur est stocké dans un attribut). Cette classe doit implémenter les méthodes suivantes :\n",
    "- void operator++();\n",
    "- bool operator!=(Iterateur rval);\n",
    "- bool operator==(Iterateur rval);\n",
    "- int operator*();\n",
    "\n",
    "En outre, il faudra préciser que Iterateur est une classe amie de Noeud et que ListeChainee est une classe amie de Iterateur. Enfin, les méthodes Iterateur begin();  et Iterateur end(); seront ajoutées à la classe ListeChainee.\n",
    "\n",
    "On donne les prototypes des classes et l'objectif est de les implémenter en s'inspirant de la première partie du TP."
   ]
  },
  {
   "cell_type": "code",
   "execution_count": 1,
   "metadata": {
    "collapsed": false
   },
   "outputs": [
    {
     "data": {
      "text/plain": []
     },
     "execution_count": 1,
     "metadata": {},
     "output_type": "execute_result"
    }
   ],
   "source": [
    "#include <iostream>"
   ]
  },
  {
   "cell_type": "code",
   "execution_count": 2,
   "metadata": {
    "collapsed": false
   },
   "outputs": [
    {
     "data": {
      "text/plain": []
     },
     "execution_count": 2,
     "metadata": {},
     "output_type": "execute_result"
    }
   ],
   "source": [
    "class Noeud\n",
    "{\n",
    "\tfriend class ListeChainee;\n",
    "\tfriend class Iterateur;\n",
    "\tNoeud () : _suivant(0) {}\n",
    "\tNoeud (int valeur) : _valeur(valeur), _suivant(0) {}\n",
    "\tNoeud (int valeur, Noeud* suivant) : _valeur(valeur), _suivant(suivant){}\n",
    "\tNoeud (Noeud* suivant) : _suivant(suivant) {}\n",
    "\tint _valeur;\n",
    "\tNoeud* _suivant;\n",
    "};"
   ]
  },
  {
   "cell_type": "code",
   "execution_count": 3,
   "metadata": {
    "collapsed": false
   },
   "outputs": [
    {
     "data": {
      "text/plain": []
     },
     "execution_count": 3,
     "metadata": {},
     "output_type": "execute_result"
    }
   ],
   "source": [
    "class Iterateur\n",
    "{\n",
    "\tfriend class ListeChainee;\n",
    "\tNoeud* pNoeud;\n",
    "\tIterateur(Noeud* _pNoeud);\n",
    "public:\n",
    "\tvoid operator++();\n",
    "\tbool operator!=(Iterateur rval);\n",
    "\tbool operator==(Iterateur rval);\n",
    "\tint operator*();\n",
    "};"
   ]
  },
  {
   "cell_type": "code",
   "execution_count": 4,
   "metadata": {
    "collapsed": false
   },
   "outputs": [
    {
     "data": {
      "text/plain": []
     },
     "execution_count": 4,
     "metadata": {},
     "output_type": "execute_result"
    }
   ],
   "source": [
    "class ListeChainee\n",
    "{\n",
    "\tNoeud* debut;\n",
    "\n",
    "public:\n",
    "\tListeChainee ();\n",
    "\t~ListeChainee();\n",
    "\n",
    "\tvoid push_back(int valeur);\n",
    "\tvoid push_front(int valeur);\n",
    "\tIterateur begin();\n",
    "\tIterateur end();\n",
    "}"
   ]
  },
  {
   "cell_type": "markdown",
   "metadata": {},
   "source": [
    "# Question 1\n",
    "Complétez les fonctions suivantes pour implémenter la classe Itérateur"
   ]
  },
  {
   "cell_type": "code",
   "execution_count": null,
   "metadata": {
    "collapsed": true
   },
   "outputs": [],
   "source": [
    "Iterateur::Iterateur(Noeud* _pNoeud)\n",
    "// ...\n",
    "{ };\n",
    "\n",
    "void Iterateur::operator++() {\n",
    "// ...\n",
    "};\n",
    "bool Iterateur::operator!=(Iterateur rval) {\n",
    "    // ...\n",
    "};\n",
    "bool Iterateur::operator==(Iterateur rval) {\n",
    "    // ...\n",
    "};\n",
    "int Iterateur::operator*() {\n",
    "    // ...\n",
    "};"
   ]
  },
  {
   "cell_type": "markdown",
   "metadata": {},
   "source": [
    "# Question 2\n",
    "Complétez les fonctions suivantes pour implémenter la classe ListeChainee"
   ]
  },
  {
   "cell_type": "code",
   "execution_count": null,
   "metadata": {
    "collapsed": true
   },
   "outputs": [],
   "source": [
    "ListeChainee::ListeChainee () : //... \n",
    "{}\n",
    "ListeChainee::~ListeChainee() {\n",
    "  // ...\n",
    "}\n",
    "\n",
    "void ListeChainee::push_back(int valeur) {\n",
    "    // ...\n",
    "};\n",
    "\n",
    "void ListeChainee::push_front(int valeur) {\n",
    "    //... \n",
    "}\n",
    "\n",
    "Iterateur ListeChainee::begin(){ \n",
    "    //... \n",
    "}\n",
    "Iterateur ListeChainee::end(){ \n",
    "    // ...\n",
    "}"
   ]
  },
  {
   "cell_type": "markdown",
   "metadata": {},
   "source": [
    "# Question 3\n",
    "On donne la liste suivante. Programmez une boucle for utilisant un itérateur pour afficher toutes ses valeurs"
   ]
  },
  {
   "cell_type": "code",
   "execution_count": null,
   "metadata": {
    "collapsed": true
   },
   "outputs": [],
   "source": [
    "ListeChainee liste;\n",
    "liste.push_back(3);\n",
    "liste.push_back(4);\n",
    "liste.push_front(2);\n",
    "liste.push_front(1);"
   ]
  }
 ],
 "metadata": {
  "kernelspec": {
   "display_name": "C++11",
   "language": "",
   "name": "clingcpp11"
  },
  "language_info": {
   "codemirror_mode": "text/x-c++src",
   "file_extension": ".c++",
   "mimetype": " text/x-c++src",
   "name": "c++"
  }
 },
 "nbformat": 4,
 "nbformat_minor": 2
}
