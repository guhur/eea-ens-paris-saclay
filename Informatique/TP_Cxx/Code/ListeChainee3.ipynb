{
 "cells": [
  {
   "cell_type": "markdown",
   "metadata": {},
   "source": [
    "# TP C++ : utilisant des templates\n",
    "\n",
    "\n",
    "La liste chaînée n'accepte que des valeurs entières. On propose maintenant d'ajouter des templates pour utiliser un autre type d'objet nommé $T$. Un nœud est désormais parametré selon $T$. \n",
    "\n",
    "Dans l'utilisation de la liste chaînée, le type n'est en réalité précisé que pour ListeChainee : ListeChainee<int> liste; liste.push_back(3);."
   ]
  },
  {
   "cell_type": "markdown",
   "metadata": {},
   "source": [
    "# Question 1\n",
    "Complétez la définition suivante d'un Noeud"
   ]
  },
  {
   "cell_type": "code",
   "execution_count": null,
   "metadata": {
    "collapsed": true
   },
   "outputs": [],
   "source": [
    "template // ...\n",
    "class Noeud\n",
    "{\n",
    "\tfriend class ListeChainee // ... ;\n",
    "\tfriend class Iterateur // ... ;\n",
    "\tNoeud () : _suivant(0) {}\n",
    "\tNoeud (T valeur) : _valeur(valeur), _suivant(0) {}\n",
    "\tNoeud (T valeur, Noeud //... * suivant) : _valeur(valeur), _suivant(suivant){}\n",
    "\tNoeud (Noeud //... * suivant) : _suivant(suivant) {}\n",
    "\tT _valeur;\n",
    "\tNoeud //... * _suivant;\n",
    "public:\n",
    "\ttypedef T valeur_type;\n",
    "};\n"
   ]
  },
  {
   "cell_type": "markdown",
   "metadata": {},
   "source": [
    "# Question 2\n",
    "Complétez la définition suivante d'un Itérateur"
   ]
  },
  {
   "cell_type": "code",
   "execution_count": null,
   "metadata": {
    "collapsed": true
   },
   "outputs": [],
   "source": [
    "template //...\n",
    "class Iterateur\n",
    "{\n",
    "\tfriend class ListeChainee // ... ;\n",
    "\tTNoeud* pNoeud;\n",
    "\tIterateur(TNoeud* _pNoeud) : pNoeud(_pNoeud) {}\n",
    "public:\n",
    "\tvoid operator++(){ pNoeud = pNoeud->_suivant; }\n",
    "\tvoid operator++(int){ pNoeud = pNoeud->_suivant; }\n",
    "\tbool operator!=(Iterateur //... rval){ return !(pNoeud == rval.pNoeud); }\n",
    "\tbool operator==(Iterateur //... rval){ return (pNoeud == rval.pNoeud); }\n",
    "\ttypename // ... TNoeud::valeur_type operator*(){\treturn pNoeud->_valeur; }\n",
    "};"
   ]
  },
  {
   "cell_type": "markdown",
   "metadata": {},
   "source": [
    "# Question 3\n",
    "Complétez la définition suivante d'une ListeChainee"
   ]
  },
  {
   "cell_type": "code",
   "execution_count": null,
   "metadata": {
    "collapsed": true
   },
   "outputs": [],
   "source": [
    "template //...\n",
    "class ListeChainee\n",
    "{\n",
    "\tNoeud//...* debut;\n",
    "\n",
    "public:\n",
    "\ttypedef  //... iterateur;\n",
    "\ttypedef  // ... valeur_type;\n",
    "\n",
    "\tListeChainee () : debut(0) {}\n",
    "\t~ListeChainee()\n",
    "\t{\n",
    "\t\tif (debut)\n",
    "\t\t{\n",
    "\t\t\tNoeud //... *iter = debut;\n",
    "\t\t\twhile (iter != 0)\n",
    "\t\t\t{\n",
    "\t\t\t\tNoeud //... * tmp = iter;\n",
    "\t\t\t\titer = iter->_suivant;\n",
    "\t\t\t\tdelete tmp;\n",
    "\t\t\t}\n",
    "\t\t}\n",
    "\t}\n",
    "\n",
    "\tvoid push_back(T valeur)\n",
    "\t{\n",
    "\t\tif (debut)\n",
    "\t\t{\n",
    "\t\t\tNoeud //... *iter = debut;\n",
    "\t\t\tfor (; iter->_suivant != 0; iter = iter->_suivant); //parcours de la liste\n",
    "\t\t\titer->_suivant = new Noeud //... (valeur);\n",
    "\t\t}\n",
    "\t\telse\n",
    "\t\t\tdebut = new Noeud //... (valeur);\n",
    "\t};\n",
    "\n",
    "\tvoid push_front(T valeur)\n",
    "\t{\n",
    "\t\tif (debut)\n",
    "\t\t{\n",
    "\t\t\tNoeud //... * tmp = new Noeud //...(valeur);\n",
    "\t\t\ttmp->_suivant = debut;\n",
    "\t\t\tdebut = tmp;\n",
    "\t\t}\n",
    "\t\telse\n",
    "\t\t\tdebut = new Noeud //... (valeur);\n",
    "\t}\n",
    "\n",
    "\titerateur begin(){ return iterateur(debut); }\n",
    "\titerateur end(){ return iterateur(0); }\n",
    "};"
   ]
  },
  {
   "cell_type": "markdown",
   "metadata": {},
   "source": [
    "# Question 4\n",
    "Comment doit-on initialiser une ListeChainee ? Faites-le, ajoutez quelques valuers, puis réalisez une boucle for pour afficher ces valeurs "
   ]
  },
  {
   "cell_type": "code",
   "execution_count": null,
   "metadata": {
    "collapsed": true
   },
   "outputs": [],
   "source": []
  }
 ],
 "metadata": {
  "kernelspec": {
   "display_name": "C++11",
   "language": "",
   "name": "clingcpp11"
  },
  "language_info": {
   "codemirror_mode": "text/x-c++src",
   "file_extension": ".c++",
   "mimetype": " text/x-c++src",
   "name": "c++"
  }
 },
 "nbformat": 4,
 "nbformat_minor": 2
}
