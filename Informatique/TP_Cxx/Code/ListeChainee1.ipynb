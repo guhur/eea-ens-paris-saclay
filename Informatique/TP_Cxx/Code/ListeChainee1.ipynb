{
 "cells": [
  {
   "cell_type": "markdown",
   "metadata": {
    "collapsed": false
   },
   "source": [
    "# TP C++ : découverte des listes chaînées "
   ]
  },
  {
   "cell_type": "markdown",
   "metadata": {
    "collapsed": false
   },
   "source": [
    "Le programme suivant implémente une liste chaînée. Les valeurs sont stockés dans des instances *Noeud*, et la classe *ListeChainee* gère l'ajout de nouvelles valeurs. "
   ]
  },
  {
   "cell_type": "code",
   "execution_count": 1,
   "metadata": {
    "collapsed": false
   },
   "outputs": [
    {
     "data": {
      "text/plain": []
     },
     "execution_count": 1,
     "metadata": {},
     "output_type": "execute_result"
    }
   ],
   "source": [
    "#include <iostream>"
   ]
  },
  {
   "cell_type": "code",
   "execution_count": 2,
   "metadata": {
    "collapsed": false
   },
   "outputs": [
    {
     "data": {
      "text/plain": []
     },
     "execution_count": 2,
     "metadata": {},
     "output_type": "execute_result"
    }
   ],
   "source": [
    "class Noeud\n",
    "{\n",
    "\tfriend class ListeChainee;\n",
    "\tNoeud () : _suivant(0) {}\n",
    "\tNoeud (int valeur) : _valeur(valeur), _suivant(0) {}\n",
    "\tNoeud (int valeur, Noeud* suivant) : _valeur(valeur),\n",
    "\t\t\t_suivant(suivant){}\n",
    "\tNoeud (Noeud* suivant) : _suivant(suivant) {}\n",
    "\tint _valeur;\n",
    "\tNoeud* _suivant;\n",
    "};\n"
   ]
  },
  {
   "cell_type": "code",
   "execution_count": 3,
   "metadata": {
    "collapsed": false
   },
   "outputs": [
    {
     "data": {
      "text/plain": []
     },
     "execution_count": 3,
     "metadata": {},
     "output_type": "execute_result"
    }
   ],
   "source": [
    "class ListeChainee\n",
    "{\n",
    "\tNoeud* debut;\n",
    "\n",
    "public:\n",
    "\tListeChainee () : debut(0) {}\n",
    "\t~ListeChainee()\n",
    "\t{\n",
    "\t\tif (debut)\n",
    "\t\t{\n",
    "\t\t\tNoeud *iter = debut;\n",
    "\t\t\twhile (iter != 0)\n",
    "\t\t\t{\n",
    "\t\t\t\tNoeud* tmp = iter;\n",
    "\t\t\t\titer = iter->_suivant;\n",
    "\t\t\t\tdelete tmp;\n",
    "\t\t\t}\n",
    "\t\t}\n",
    "\t}\n",
    "\n",
    "\tvoid push_back(int valeur)\n",
    "\t{\n",
    "\t\tif (debut)\n",
    "\t\t{\n",
    "\t\t\tNoeud *iter = debut;\n",
    "\t\t\tfor (; iter->_suivant != 0;\n",
    "\t\t\t\titer = iter->_suivant);\n",
    "\t\t\titer->_suivant = new Noeud(valeur);\n",
    "\t\t}\n",
    "\t\telse\n",
    "\t\t\tdebut = new Noeud(valeur);\n",
    "\t};\n",
    "\n",
    "\tvoid push_front(int valeur)\n",
    "\t{\n",
    "\t\tif (debut)\n",
    "\t\t{\n",
    "\t\t\tNoeud * tmp = new Noeud(valeur);\n",
    "\t\t\ttmp->_suivant = debut;\n",
    "\t\t\tdebut = tmp;\n",
    "\t\t}\n",
    "\t\telse\n",
    "\t\t\tdebut = new Noeud(valeur);\n",
    "\t}\n",
    "\n",
    "\tint get_value(int n) {\n",
    "\t\tNoeud *iter = debut;\n",
    "\t\tfor (int i = 0; i < n; i++)\n",
    "\t\t\ttry {\n",
    "\t\t\t\titer = iter->_suivant;\n",
    "\t\t\t\tif (!iter->_suivant)\n",
    "\t\t\t\t\tthrow 1;\n",
    "\t\t\t}\n",
    "\t\t\tcatch (int e) {\n",
    "\t\t\t\tstd::cerr <<\n",
    "\t\t\t\t\t\"Erreur: le noeud n'existe pas !\"\n",
    "\t\t\t\t\t<< std::endl;\n",
    "\t\t\t}\n",
    "\t\treturn iter->_valeur;\n",
    "\t}\n",
    "};"
   ]
  },
  {
   "cell_type": "markdown",
   "metadata": {},
   "source": [
    "L'implémentation présente plusieurs intérêts. Par exemple, la ligne 6:"
   ]
  },
  {
   "cell_type": "code",
   "execution_count": null,
   "metadata": {
    "collapsed": true
   },
   "outputs": [],
   "source": [
    "friend class ListeChainee;"
   ]
  },
  {
   "cell_type": "markdown",
   "metadata": {},
   "source": [
    "cette ligne autorise l'accès des éléments privés à ListeChainee."
   ]
  },
  {
   "cell_type": "code",
   "execution_count": null,
   "metadata": {
    "collapsed": true
   },
   "outputs": [],
   "source": [
    "ListeChainee () : debut(0) {}"
   ]
  },
  {
   "cell_type": "markdown",
   "metadata": {},
   "source": [
    "Cette syntaxe particulière initialise directement les attributs de la liste chaînée. "
   ]
  },
  {
   "cell_type": "code",
   "execution_count": null,
   "metadata": {
    "collapsed": true
   },
   "outputs": [],
   "source": [
    "try {\n",
    "    iter = iter->_suivant;\n",
    "    if (!iter->_suivant)\n",
    "        throw 1;\n",
    "}\n",
    "catch (int e) {\n",
    "    std::cerr <<\n",
    "        \"Erreur: le noeud n'existe pas !\"\n",
    "        << std::endl;\n",
    "}"
   ]
  },
  {
   "cell_type": "markdown",
   "metadata": {},
   "source": [
    "Ce bloc try... catch gère les erreurs : si on ne peut pas accéder à l'élément suivant, on lance une erreur avec un texte explicite plutôt que de risquer une segmentation fault. "
   ]
  },
  {
   "cell_type": "markdown",
   "metadata": {},
   "source": [
    "## Exercice \n",
    "Codez un programme pour ajouter des éléments à la liste et les afficher"
   ]
  },
  {
   "cell_type": "code",
   "execution_count": null,
   "metadata": {
    "collapsed": true
   },
   "outputs": [],
   "source": []
  }
 ],
 "metadata": {
  "kernelspec": {
   "display_name": "C++11",
   "language": "",
   "name": "clingcpp11"
  },
  "language_info": {
   "codemirror_mode": "text/x-c++src",
   "file_extension": ".c++",
   "mimetype": " text/x-c++src",
   "name": "c++"
  }
 },
 "nbformat": 4,
 "nbformat_minor": 2
}
